{
 "cells": [
  {
   "cell_type": "code",
   "execution_count": 19,
   "metadata": {},
   "outputs": [],
   "source": [
    "import os\n",
    "import pandas as pd\n",
    "from sklearn.utils import shuffle\n",
    "from skimage.io import imshow, imread, imsave"
   ]
  },
  {
   "cell_type": "code",
   "execution_count": 20,
   "metadata": {},
   "outputs": [],
   "source": [
    "data_path = \"../dataset\"\n",
    "train_path = os.path.join(data_path, \"train\")\n",
    "test_cleaned_path = os.path.join(data_path, \"test_cleaned\")\n",
    "test_path = os.path.join(data_path, \"test\")"
   ]
  },
  {
   "cell_type": "markdown",
   "metadata": {},
   "source": [
    "## 1. Train"
   ]
  },
  {
   "cell_type": "code",
   "execution_count": 21,
   "metadata": {},
   "outputs": [],
   "source": [
    "df_train = pd.DataFrame({\"image_path\": \"\", \"smoking_images\": 0, \"calling_images\": 0, \"normal_images\": 0}, index = [0])\n",
    "df_train = df_train.drop(index=0)"
   ]
  },
  {
   "cell_type": "code",
   "execution_count": 22,
   "metadata": {},
   "outputs": [],
   "source": [
    "'''\n",
    "for image_path in os.listdir(os.path.join(train_path, \"smoking_images\")):\n",
    "    image_path = \"train/smoking_images/\" + image_path\n",
    "    df_train = df_train.append({\"image_path\": image_path, \"smoking_images\": 1, \"calling_images\": 0, \"normal_images\": 0}, ignore_index=True)\n",
    "\n",
    "for image_path in os.listdir(os.path.join(train_path, \"calling_images\")):\n",
    "    image_path = \"train/calling_images/\" + image_path\n",
    "    df_train = df_train.append({\"image_path\": image_path, \"smoking_images\": 0, \"calling_images\": 1, \"normal_images\": 0}, ignore_index=True)\n",
    "\n",
    "for image_path in os.listdir(os.path.join(train_path, \"normal_images\")):\n",
    "    image_path = \"train/normal_images/\" + image_path\n",
    "    df_train = df_train.append({\"image_path\": image_path, \"smoking_images\": 0, \"calling_images\": 0, \"normal_images\": 1}, ignore_index=True)\n",
    "'''\n",
    "\n",
    "for image_path in os.listdir(os.path.join(test_cleaned_path, \"smoking_jpeg\")):\n",
    "    if '.jpg' not in image_path:\n",
    "        continue\n",
    "    image_path = \"test_cleaned/smoking_jpeg/\" + image_path\n",
    "    df_train = df_train.append({\"image_path\": image_path, \"smoking_images\": 1, \"calling_images\": 0, \"normal_images\": 0}, ignore_index=True)\n",
    "\n",
    "for image_path in os.listdir(os.path.join(test_cleaned_path, \"calling_jpeg\")):\n",
    "    if '.jpg' not in image_path:\n",
    "        continue\n",
    "    image_path = \"test_cleaned/calling_jpeg/\" + image_path\n",
    "    df_train = df_train.append({\"image_path\": image_path, \"smoking_images\": 0, \"calling_images\": 1, \"normal_images\": 0}, ignore_index=True)\n",
    "    \n",
    "for image_path in os.listdir(os.path.join(test_cleaned_path, \"normal_jpeg\")):\n",
    "    if '.jpg' not in image_path:\n",
    "        continue\n",
    "    image_path = \"test_cleaned/normal_jpeg/\" + image_path\n",
    "    df_train = df_train.append({\"image_path\": image_path, \"smoking_images\": 0, \"calling_images\": 0, \"normal_images\": 1}, ignore_index=True)\n",
    "\n",
    "# train\n",
    "for image_path in os.listdir(os.path.join(train_path, \"smoke\")):\n",
    "    if '.jpg' not in image_path:\n",
    "        continue\n",
    "    image_path = \"train/smoke/\" + image_path\n",
    "    df_train = df_train.append({\"image_path\": image_path, \"smoking_images\": 1, \"calling_images\": 0, \"normal_images\": 0}, ignore_index=True)\n",
    "\n",
    "for image_path in os.listdir(os.path.join(train_path, \"phone\")):\n",
    "    if '.jpg' not in image_path:\n",
    "        continue\n",
    "    image_path = \"train/phone/\" + image_path\n",
    "    df_train = df_train.append({\"image_path\": image_path, \"smoking_images\": 0, \"calling_images\": 1, \"normal_images\": 0}, ignore_index=True)\n",
    "    \n",
    "for image_path in os.listdir(os.path.join(train_path, \"normal\")):\n",
    "    if '.jpg' not in image_path:\n",
    "        continue\n",
    "    image_path = \"train/normal/\" + image_path\n",
    "    df_train = df_train.append({\"image_path\": image_path, \"smoking_images\": 0, \"calling_images\": 0, \"normal_images\": 1}, ignore_index=True)"
   ]
  },
  {
   "cell_type": "code",
   "execution_count": 23,
   "metadata": {},
   "outputs": [],
   "source": [
    "df_train = shuffle(df_train)\n",
    "df_train.to_csv(os.path.join(data_path, \"train_plus_labeled_test.csv\"), index=0)"
   ]
  },
  {
   "cell_type": "markdown",
   "metadata": {},
   "source": [
    "## 2. Test"
   ]
  },
  {
   "cell_type": "code",
   "execution_count": 3,
   "metadata": {},
   "outputs": [],
   "source": [
    "df_test = pd.DataFrame({\"image_path\": \"\", \"smoking_images\": 0, \"calling_images\": 0, \"normal_images\": 0}, index = [0])\n",
    "df_test = df_test.drop(index=0)\n",
    "for image_path in os.listdir(test_path):\n",
    "    image_path = \"test/\" + image_path\n",
    "    df_test = df_test.append({\"image_path\": image_path, \"smoking_images\": 0, \"calling_images\": 0, \"normal_images\": 0}, ignore_index=True)"
   ]
  },
  {
   "cell_type": "code",
   "execution_count": 4,
   "metadata": {
    "scrolled": true
   },
   "outputs": [
    {
     "data": {
      "text/html": [
       "<div>\n",
       "<style scoped>\n",
       "    .dataframe tbody tr th:only-of-type {\n",
       "        vertical-align: middle;\n",
       "    }\n",
       "\n",
       "    .dataframe tbody tr th {\n",
       "        vertical-align: top;\n",
       "    }\n",
       "\n",
       "    .dataframe thead th {\n",
       "        text-align: right;\n",
       "    }\n",
       "</style>\n",
       "<table border=\"1\" class=\"dataframe\">\n",
       "  <thead>\n",
       "    <tr style=\"text-align: right;\">\n",
       "      <th></th>\n",
       "      <th>image_path</th>\n",
       "      <th>smoking_images</th>\n",
       "      <th>calling_images</th>\n",
       "      <th>normal_images</th>\n",
       "    </tr>\n",
       "  </thead>\n",
       "  <tbody>\n",
       "    <tr>\n",
       "      <th>0</th>\n",
       "      <td>test/594.png</td>\n",
       "      <td>0</td>\n",
       "      <td>0</td>\n",
       "      <td>0</td>\n",
       "    </tr>\n",
       "    <tr>\n",
       "      <th>1</th>\n",
       "      <td>test/46.png</td>\n",
       "      <td>0</td>\n",
       "      <td>0</td>\n",
       "      <td>0</td>\n",
       "    </tr>\n",
       "    <tr>\n",
       "      <th>2</th>\n",
       "      <td>test/75.png</td>\n",
       "      <td>0</td>\n",
       "      <td>0</td>\n",
       "      <td>0</td>\n",
       "    </tr>\n",
       "    <tr>\n",
       "      <th>3</th>\n",
       "      <td>test/17.png</td>\n",
       "      <td>0</td>\n",
       "      <td>0</td>\n",
       "      <td>0</td>\n",
       "    </tr>\n",
       "    <tr>\n",
       "      <th>4</th>\n",
       "      <td>test/529.png</td>\n",
       "      <td>0</td>\n",
       "      <td>0</td>\n",
       "      <td>0</td>\n",
       "    </tr>\n",
       "    <tr>\n",
       "      <th>...</th>\n",
       "      <td>...</td>\n",
       "      <td>...</td>\n",
       "      <td>...</td>\n",
       "      <td>...</td>\n",
       "    </tr>\n",
       "    <tr>\n",
       "      <th>1495</th>\n",
       "      <td>test/1428.png</td>\n",
       "      <td>0</td>\n",
       "      <td>0</td>\n",
       "      <td>0</td>\n",
       "    </tr>\n",
       "    <tr>\n",
       "      <th>1496</th>\n",
       "      <td>test/1310.png</td>\n",
       "      <td>0</td>\n",
       "      <td>0</td>\n",
       "      <td>0</td>\n",
       "    </tr>\n",
       "    <tr>\n",
       "      <th>1497</th>\n",
       "      <td>test/763.png</td>\n",
       "      <td>0</td>\n",
       "      <td>0</td>\n",
       "      <td>0</td>\n",
       "    </tr>\n",
       "    <tr>\n",
       "      <th>1498</th>\n",
       "      <td>test/528.png</td>\n",
       "      <td>0</td>\n",
       "      <td>0</td>\n",
       "      <td>0</td>\n",
       "    </tr>\n",
       "    <tr>\n",
       "      <th>1499</th>\n",
       "      <td>test/727.png</td>\n",
       "      <td>0</td>\n",
       "      <td>0</td>\n",
       "      <td>0</td>\n",
       "    </tr>\n",
       "  </tbody>\n",
       "</table>\n",
       "<p>1500 rows × 4 columns</p>\n",
       "</div>"
      ],
      "text/plain": [
       "         image_path  smoking_images  calling_images  normal_images\n",
       "0      test/594.png               0               0              0\n",
       "1       test/46.png               0               0              0\n",
       "2       test/75.png               0               0              0\n",
       "3       test/17.png               0               0              0\n",
       "4      test/529.png               0               0              0\n",
       "...             ...             ...             ...            ...\n",
       "1495  test/1428.png               0               0              0\n",
       "1496  test/1310.png               0               0              0\n",
       "1497   test/763.png               0               0              0\n",
       "1498   test/528.png               0               0              0\n",
       "1499   test/727.png               0               0              0\n",
       "\n",
       "[1500 rows x 4 columns]"
      ]
     },
     "execution_count": 4,
     "metadata": {},
     "output_type": "execute_result"
    }
   ],
   "source": [
    "df_test"
   ]
  },
  {
   "cell_type": "code",
   "execution_count": 5,
   "metadata": {},
   "outputs": [],
   "source": [
    "df_test = shuffle(df_test)\n",
    "df_test.to_csv(os.path.join(data_path, \"test.csv\"), index=0)"
   ]
  },
  {
   "cell_type": "markdown",
   "metadata": {},
   "source": [
    "## 3. Image Size"
   ]
  },
  {
   "cell_type": "code",
   "execution_count": null,
   "metadata": {},
   "outputs": [],
   "source": [
    "for image_path in os.listdir(test_path):\n",
    "    image_path = \"dataset/test/\" + image_path\n",
    "    image = imread(image_path)\n",
    "    print(image.shape)\n",
    "    print(image.shape[1] / image.shape[0])"
   ]
  }
 ],
 "metadata": {
  "kernelspec": {
   "display_name": "Python 3",
   "language": "python",
   "name": "python3"
  },
  "language_info": {
   "codemirror_mode": {
    "name": "ipython",
    "version": 3
   },
   "file_extension": ".py",
   "mimetype": "text/x-python",
   "name": "python",
   "nbconvert_exporter": "python",
   "pygments_lexer": "ipython3",
   "version": "3.6.9"
  }
 },
 "nbformat": 4,
 "nbformat_minor": 4
}
