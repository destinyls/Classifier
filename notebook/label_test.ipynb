{
 "cells": [
  {
   "cell_type": "code",
   "execution_count": 21,
   "metadata": {},
   "outputs": [],
   "source": [
    "import os\n",
    "import json\n",
    "import shutil\n",
    "import cv2\n",
    "\n",
    "import pandas as pd"
   ]
  },
  {
   "cell_type": "code",
   "execution_count": 2,
   "metadata": {},
   "outputs": [],
   "source": [
    "result_test = \"../submit/99.76_resnet-18_resnet-34_densnet161_result.json\"\n",
    "test = \"/home/mist/Classifier/dataset/test\"\n",
    "test_labeled = \"/home/mist/Classifier/dataset/test_labeled\"\n",
    "test_cleaned = \"/home/mist/Classifier/dataset/test_cleaned\""
   ]
  },
  {
   "cell_type": "markdown",
   "metadata": {},
   "source": [
    "### 预于模型的测试集数据初分类"
   ]
  },
  {
   "cell_type": "code",
   "execution_count": null,
   "metadata": {},
   "outputs": [],
   "source": [
    "with open(result_test, 'r') as f:\n",
    "    results = json.load(f)\n",
    "for i in range(len(results)):\n",
    "    pred = results[i]\n",
    "    source_path = os.path.join(test, pred['image_name'])\n",
    "    dest_path = \"\"\n",
    "    if pred['category'] == 'normal':\n",
    "        dest_path = os.path.join(test_labeled, \"normal/\" + pred['image_name'])\n",
    "    elif pred['category'] == 'calling':\n",
    "        dest_path = os.path.join(test_labeled, \"calling/\" + pred['image_name'])\n",
    "    elif pred['category'] == 'smoking':\n",
    "        dest_path = os.path.join(test_labeled, \"smoking/\" + pred['image_name'])\n",
    "    shutil.copyfile(source_path, dest_path)"
   ]
  },
  {
   "cell_type": "markdown",
   "metadata": {},
   "source": [
    "### 查找已删除图片"
   ]
  },
  {
   "cell_type": "code",
   "execution_count": 6,
   "metadata": {},
   "outputs": [],
   "source": [
    "for i in range(len(results)):\n",
    "    pred = results[i]\n",
    "    image_name = pred['image_name']\n",
    "    calling = os.path.join(test_cleaned, \"calling/\" + image_name)\n",
    "    normal = os.path.join(test_cleaned, \"normal/\" + image_name)\n",
    "    smoking = os.path.join(test_cleaned, \"smoking/\" + image_name)\n",
    "    if os.path.exists(calling) or os.path.exists(normal) or os.path.exists(smoking):\n",
    "        continue\n",
    "    else:\n",
    "        shutil.copyfile(os.path.join(test, image_name), os.path.join(test_cleaned, \"temp/\" + image_name))"
   ]
  },
  {
   "cell_type": "markdown",
   "metadata": {},
   "source": [
    "### 图片格式修正"
   ]
  },
  {
   "cell_type": "code",
   "execution_count": 10,
   "metadata": {},
   "outputs": [],
   "source": [
    "normal_path = os.path.join(test_cleaned, 'normal')\n",
    "normal_jpeg_path = os.path.join(test_cleaned, 'normal_jpeg')\n",
    "for file_name in os.listdir(normal_path):\n",
    "    if not '.png' in file_name:\n",
    "        continue\n",
    "    image = cv2.imread(os.path.join(normal_path, file_name))\n",
    "    cv2.imwrite(os.path.join(normal_jpeg_path, file_name.split('.')[0] + '.jpg'), image)\n",
    "    \n",
    "calling_path = os.path.join(test_cleaned, 'calling')\n",
    "calling_jpeg_path = os.path.join(test_cleaned, 'calling_jpeg')\n",
    "for file_name in os.listdir(calling_path):\n",
    "    if not '.png' in file_name:\n",
    "        continue\n",
    "    image = cv2.imread(os.path.join(calling_path, file_name))\n",
    "    cv2.imwrite(os.path.join(calling_jpeg_path, file_name.split('.')[0] + '.jpg'), image)\n",
    "    \n",
    "smoking_path = os.path.join(test_cleaned, 'smoking')\n",
    "smoking_jpeg_path = os.path.join(test_cleaned, 'smoking_jpeg')\n",
    "for file_name in os.listdir(smoking_path):\n",
    "    if not '.png' in file_name:\n",
    "        continue\n",
    "    image = cv2.imread(os.path.join(smoking_path, file_name))\n",
    "    cv2.imwrite(os.path.join(smoking_jpeg_path, file_name.split('.')[0] + '.jpg'), image)\n",
    "    "
   ]
  },
  {
   "cell_type": "markdown",
   "metadata": {},
   "source": [
    "### 图片文件检查"
   ]
  },
  {
   "cell_type": "code",
   "execution_count": null,
   "metadata": {},
   "outputs": [],
   "source": [
    "IMAGE_FOLDER = '../dataset/'\n",
    "data_root = '../dataset/'\n",
    "def get_image_path(filename):\n",
    "    return (IMAGE_FOLDER + filename)\n",
    "train = pd.read_csv(os.path.join(data_root, 'train_plus_labeled_test.csv'))\n",
    "train_paths = train['image_path'].apply(get_image_path)\n",
    "\n",
    "for i in range(train_paths.shape[0]):\n",
    "    image_path = train_paths[i]\n",
    "    print(image_path)\n",
    "    image = imread(image_path)\n",
    "    print(image.shape)\n"
   ]
  }
 ],
 "metadata": {
  "kernelspec": {
   "display_name": "Python 3",
   "language": "python",
   "name": "python3"
  },
  "language_info": {
   "codemirror_mode": {
    "name": "ipython",
    "version": 3
   },
   "file_extension": ".py",
   "mimetype": "text/x-python",
   "name": "python",
   "nbconvert_exporter": "python",
   "pygments_lexer": "ipython3",
   "version": "3.6.9"
  }
 },
 "nbformat": 4,
 "nbformat_minor": 4
}
